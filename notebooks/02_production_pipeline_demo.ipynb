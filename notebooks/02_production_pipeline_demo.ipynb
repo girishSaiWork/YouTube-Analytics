{
 "cells": [
  {
   "cell_type": "markdown",
   "metadata": {},
   "source": [
    "# YouTube Analytics - Production Pipeline Demo\n",
    "\n",
    "This notebook demonstrates the production-ready data pipeline with all the transformations and analytics modules."
   ]
  },
  {
   "cell_type": "code",
   "execution_count": 1,
   "metadata": {},
   "outputs": [
    {
     "name": "stdout",
     "output_type": "stream",
     "text": [
      "✅ Project root: e:\\Study Space\\Analytics Enginerring\\Data Engineering\\Azure Databricks\\ADB_Practice\\YouTube Analytics\n",
      "✅ Added to Python path:\n",
      "   - e:\\Study Space\\Analytics Enginerring\\Data Engineering\\Azure Databricks\\ADB_Practice\\YouTube Analytics\n",
      "   - e:\\Study Space\\Analytics Enginerring\\Data Engineering\\Azure Databricks\\ADB_Practice\\YouTube Analytics\\src\n",
      "✅ Config import successful\n",
      "✅ SparkUtils import successful\n",
      "✅ YouTubeDataReader import successful\n",
      "✅ All imports working correctly!\n"
     ]
    },
    {
     "data": {
      "text/plain": [
       "True"
      ]
     },
     "execution_count": 1,
     "metadata": {},
     "output_type": "execute_result"
    }
   ],
   "source": [
    "# Setup notebook environment\n",
    "from notebook_setup import setup_notebook_environment, test_imports\n",
    "\n",
    "# Setup paths and test imports\n",
    "project_root = setup_notebook_environment()\n",
    "test_imports()"
   ]
  },
  {
   "cell_type": "code",
   "execution_count": 2,
   "metadata": {},
   "outputs": [],
   "source": [
    "# Import production modules\n",
    "from config.settings import Config\n",
    "from src.utils.spark_utils import SparkUtils\n",
    "from src.data_processing.pipeline import YouTubeDataPipeline\n",
    "from src.analytics.trending_analysis import TrendingAnalyzer\n",
    "from src.data_processing.transformers import YouTubeDataTransformer\n",
    "from src.data_processing.cleaners import YouTubeDataCleaner\n",
    "from src.data_ingestion.processed_data_loader import ProcessedDataLoader"
   ]
  },
  {
   "cell_type": "code",
   "execution_count": 3,
   "metadata": {},
   "outputs": [
    {
     "name": "stdout",
     "output_type": "stream",
     "text": [
      "Spark version: 3.5.6\n",
      "Available countries: ['CA', 'DE', 'FR', 'GB', 'IN', 'JP', 'KR', 'MX', 'RU', 'US']\n"
     ]
    }
   ],
   "source": [
    "# Initialize Spark session and pipeline\n",
    "spark = SparkUtils.get_spark_session()\n",
    "pipeline = YouTubeDataPipeline(spark)\n",
    "analyzer = TrendingAnalyzer()\n",
    "\n",
    "print(f\"Spark version: {spark.version}\")\n",
    "print(f\"Available countries: {Config.COUNTRIES}\")"
   ]
  },
  {
   "cell_type": "markdown",
   "metadata": {},
   "source": [
    "## Demo 1: Single Country Processing with Full Pipeline"
   ]
  },
  {
   "cell_type": "code",
   "execution_count": 4,
   "metadata": {},
   "outputs": [
    {
     "name": "stdout",
     "output_type": "stream",
     "text": [
      "Processing US data with full pipeline...\n",
      "Processed US data: 40899 rows\n",
      "root\n",
      " |-- video_id: string (nullable = true)\n",
      " |-- trending_date: string (nullable = true)\n",
      " |-- title: string (nullable = true)\n",
      " |-- channel_title: string (nullable = true)\n",
      " |-- category_id: string (nullable = true)\n",
      " |-- publish_time: string (nullable = true)\n",
      " |-- tags: string (nullable = true)\n",
      " |-- views: integer (nullable = true)\n",
      " |-- likes: integer (nullable = true)\n",
      " |-- dislikes: integer (nullable = true)\n",
      " |-- comment_count: integer (nullable = true)\n",
      " |-- thumbnail_link: string (nullable = true)\n",
      " |-- comments_disabled: boolean (nullable = true)\n",
      " |-- ratings_disabled: boolean (nullable = true)\n",
      " |-- video_error_or_removed: boolean (nullable = true)\n",
      " |-- description: string (nullable = true)\n",
      " |-- country: string (nullable = false)\n",
      " |-- category_name: string (nullable = true)\n",
      " |-- publish_time_parsed: timestamp (nullable = true)\n",
      "\n"
     ]
    }
   ],
   "source": [
    "# Process US data with full pipeline\n",
    "print(\"Processing US data with full pipeline...\")\n",
    "us_df = pipeline.process_single_country_data('US', apply_cleaning=True)\n",
    "\n",
    "print(f\"Processed US data: {us_df.count()} rows\")\n",
    "us_df.printSchema()"
   ]
  },
  {
   "cell_type": "code",
   "execution_count": null,
   "metadata": {},
   "outputs": [],
   "source": [
    "# Show sample of processed data\n",
    "us_df.select(\"video_id\", \"title\", \"channel_title\", \"views\", \"likes\", \"category_name\", \"country\").show(5, truncate=False)"
   ]
  },
  {
   "cell_type": "markdown",
   "metadata": {},
   "source": [
    "## Demo 2: Analytics on Processed Data"
   ]
  },
  {
   "cell_type": "code",
   "execution_count": null,
   "metadata": {},
   "outputs": [],
   "source": [
    "# Generate summary report\n",
    "summary = analyzer.generate_trending_summary_report(us_df)\n",
    "print(\"US Trending Summary:\")\n",
    "for key, value in summary.items():\n",
    "    print(f\"  {key}: {value:,}\" if isinstance(value, (int, float)) else f\"  {key}: {value}\")"
   ]
  },
  {
   "cell_type": "code",
   "execution_count": null,
   "metadata": {},
   "outputs": [],
   "source": [
    "# Top videos by views\n",
    "print(\"Top 10 Videos by Views:\")\n",
    "top_videos = analyzer.top_videos_by_views(us_df, limit=10)\n",
    "top_videos.show(10, truncate=False)"
   ]
  },
  {
   "cell_type": "code",
   "execution_count": null,
   "metadata": {},
   "outputs": [],
   "source": [
    "# Category performance analysis\n",
    "print(\"Category Performance Analysis:\")\n",
    "category_performance = analyzer.category_performance_analysis(us_df)\n",
    "category_performance.show(15, truncate=False)"
   ]
  },
  {
   "cell_type": "code",
   "execution_count": null,
   "metadata": {},
   "outputs": [],
   "source": [
    "# Top channels by trending count\n",
    "print(\"Top Channels by Trending Video Count:\")\n",
    "top_channels = analyzer.top_channels_by_trending_count(us_df, limit=10)\n",
    "top_channels.show(10, truncate=False)"
   ]
  },
  {
   "cell_type": "markdown",
   "metadata": {},
   "source": [
    "## Demo 3: Multi-Country Analysis"
   ]
  },
  {
   "cell_type": "code",
   "execution_count": null,
   "metadata": {},
   "outputs": [],
   "source": [
    "# Process data for multiple countries\n",
    "print(\"Processing data for US, CA, and GB...\")\n",
    "multi_country_df = pipeline.run_full_pipeline(countries=['US', 'CA', 'GB'], save_output=False)\n",
    "\n",
    "print(f\"Multi-country data: {multi_country_df.count()} rows\")\n",
    "print(\"Countries in dataset:\")\n",
    "multi_country_df.groupBy(\"country\").count().show()"
   ]
  },
  {
   "cell_type": "code",
   "execution_count": null,
   "metadata": {},
   "outputs": [],
   "source": [
    "# Country comparison analysis\n",
    "print(\"Country Comparison Analysis:\")\n",
    "country_comparison = analyzer.country_comparison_analysis(multi_country_df)\n",
    "country_comparison.show(truncate=False)"
   ]
  },
  {
   "cell_type": "markdown",
   "metadata": {},
   "source": [
    "## Demo 4: Advanced Analytics"
   ]
  },
  {
   "cell_type": "code",
   "execution_count": null,
   "metadata": {},
   "outputs": [],
   "source": [
    "# Engagement rate analysis\n",
    "print(\"Top 10 Videos by Engagement Rate:\")\n",
    "engagement_analysis = analyzer.engagement_rate_analysis(us_df)\n",
    "engagement_analysis.select(\"title\", \"channel_title\", \"views\", \"engagement_rate\", \"like_rate\", \"comment_rate\").show(10, truncate=False)"
   ]
  },
  {
   "cell_type": "code",
   "execution_count": null,
   "metadata": {},
   "outputs": [],
   "source": [
    "# Trending duration analysis\n",
    "print(\"Videos with Most Trending Days:\")\n",
    "trending_duration = analyzer.trending_duration_analysis(us_df)\n",
    "trending_duration.show(10, truncate=False)"
   ]
  },
  {
   "cell_type": "markdown",
   "metadata": {},
   "source": [
    "## Demo 5: Data Quality Validation"
   ]
  },
  {
   "cell_type": "code",
   "execution_count": null,
   "metadata": {},
   "outputs": [],
   "source": [
    "# Data quality validation\n",
    "print(\"Data Quality Metrics:\")\n",
    "quality_metrics = YouTubeDataCleaner.validate_data_quality(us_df)\n",
    "for metric, value in quality_metrics.items():\n",
    "    print(f\"  {metric}: {value}\")"
   ]
  },
  {
   "cell_type": "code",
   "execution_count": null,
   "metadata": {},
   "outputs": [],
   "source": [
    "# Stop Spark session\n",
    "SparkUtils.stop_spark_session()\n",
    "print(\"Spark session stopped.\")"
   ]
  }
 ],
 "metadata": {
  "kernelspec": {
   "display_name": "Python 3",
   "language": "python",
   "name": "python3"
  },
  "language_info": {
   "codemirror_mode": {
    "name": "ipython",
    "version": 3
   },
   "file_extension": ".py",
   "mimetype": "text/x-python",
   "name": "python",
   "nbconvert_exporter": "python",
   "pygments_lexer": "ipython3",
   "version": "3.11.7"
  }
 },
 "nbformat": 4,
 "nbformat_minor": 4
}
