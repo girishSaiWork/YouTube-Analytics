{
 "cells": [
  {
   "cell_type": "markdown",
   "metadata": {},
   "source": [
    "# Business Insights Analysis - YouTube Trending Videos\n",
    "\n",
    "This notebook provides comprehensive business insights analysis using **pandas** for efficient data analysis of engineered features.\n",
    "\n",
    "## Key Business Questions:\n",
    "1. **High Engagement Videos**: What content shows exceptional engagement?\n",
    "2. **Quick Trending**: Which categories trend fastest?\n",
    "3. **Ranking Patterns**: Is there correlation between engagement and trending rank?\n",
    "4. **Temporal Patterns**: How quickly do videos trend after publication?\n",
    "\n",
    "## Analysis Approach:\n",
    "- **Pandas-based analysis** for efficiency and speed\n",
    "- **Statistical analysis** with correlations and distributions\n",
    "- **Visual insights** with data summaries\n",
    "- **Actionable business recommendations**"
   ]
  },
  {
   "cell_type": "code",
   "execution_count": null,
   "metadata": {},
   "outputs": [],
   "source": [
    "# Setup notebook environment\n",
    "from notebook_setup import setup_notebook_environment, test_imports\n",
    "\n",
    "# Setup paths and test imports\n",
    "project_root = setup_notebook_environment()\n",
    "test_imports()"
   ]
  },
  {
   "cell_type": "code",
   "execution_count": null,
   "metadata": {},
   "outputs": [],
   "source": [
    "# Import required modules\n",
    "import pandas as pd\n",
    "import numpy as np\n",
    "import matplotlib.pyplot as plt\n",
    "import seaborn as sns\n",
    "from pathlib import Path\n",
    "import warnings\n",
    "warnings.filterwarnings('ignore')\n",
    "\n",
    "# Import our business insights module\n",
    "from config.settings import Config\n",
    "from src.analytics.business_insights import YouTubeBusinessInsights\n",
    "\n",
    "# Configure pandas display options\n",
    "pd.set_option('display.max_columns', None)\n",
    "pd.set_option('display.width', None)\n",
    "pd.set_option('display.max_colwidth', 50)\n",
    "\n",
    "# Configure matplotlib\n",
    "plt.style.use('default')\n",
    "plt.rcParams['figure.figsize'] = (12, 8)\n",
    "sns.set_palette(\"husl\")\n",
    "\n",
    "print(\"📊 Business Insights Analysis Setup Complete!\")\n",
    "print(f\"Pandas version: {pd.__version__}\")\n",
    "print(f\"NumPy version: {np.__version__}\")"
   ]
  },
  {
   "cell_type": "markdown",
   "metadata": {},
   "source": [
    "## Load Engineered Features Data\n",
    "\n",
    "Load the feature-engineered dataset that was created by our PySpark pipeline."
   ]
  },
  {
   "cell_type": "code",
   "execution_count": null,
   "metadata": {},
   "outputs": [],
   "source": [
    "# Initialize configuration and business insights analyzer\n",
    "config = Config()\n",
    "features_path = config.OUTPUT_DATA_PATH / \"youtube_trending_videos_with_features.parquet\"\n",
    "\n",
    "print(f\"Loading engineered features from: {features_path}\")\n",
    "\n",
    "# Check if file exists\n",
    "if not features_path.exists():\n",
    "    print(\"❌ Engineered features not found!\")\n",
    "    print(\"Please run the feature engineering script first:\")\n",
    "    print(\"  python scripts/feature_engineering_demo.py\")\n",
    "    raise FileNotFoundError(\"Engineered features data not found\")\n",
    "\n",
    "# Initialize business insights analyzer\n",
    "insights_analyzer = YouTubeBusinessInsights(str(features_path))\n",
    "df = insights_analyzer.df\n",
    "\n",
    "print(f\"✅ Successfully loaded {len(df):,} records\")\n",
    "print(f\"📊 Dataset shape: {df.shape}\")\n",
    "print(f\"📅 Date range: {df['trending_date'].min()} to {df['trending_date'].max()}\")\n",
    "print(f\"🏷️ Categories: {df['category_name'].nunique()}\")\n",
    "print(f\"📺 Channels: {df['channel_title'].nunique()}\")"
   ]
  },
  {
   "cell_type": "code",
   "execution_count": null,
   "metadata": {},
   "outputs": [],
   "source": [
    "# Display basic dataset information\n",
    "print(\"Dataset Overview:\")\n",
    "print(\"=\" * 50)\n",
    "print(f\"Total Videos: {len(df):,}\")\n",
    "print(f\"Columns: {len(df.columns)}\")\n",
    "print(f\"Memory Usage: {df.memory_usage(deep=True).sum() / 1024**2:.1f} MB\")\n",
    "\n",
    "print(\"\\nColumn Information:\")\n",
    "print(\"-\" * 30)\n",
    "for col in df.columns:\n",
    "    non_null = df[col].count()\n",
    "    null_pct = (len(df) - non_null) / len(df) * 100\n",
    "    print(f\"{col:25} | {non_null:>8,} non-null | {null_pct:>5.1f}% null\")\n",
    "\n",
    "print(\"\\nSample Data:\")\n",
    "print(\"-\" * 20)\n",
    "display(df[['title', 'channel_title', 'category_name', 'views', 'engagement_score', 'days_to_trend', 'trending_rank']].head())"
   ]
  },
  {
   "cell_type": "markdown",
   "metadata": {},
   "source": [
    "## 📊 Analysis 1: High Engagement Content\n",
    "\n",
    "**Business Question**: What content shows exceptional engagement?\n",
    "\n",
    "**Key Metrics**:\n",
    "- Engagement score distribution\n",
    "- Top performing videos and channels\n",
    "- Category analysis\n",
    "- Content patterns"
   ]
  },
  {
   "cell_type": "code",
   "execution_count": null,
   "metadata": {},
   "outputs": [],
   "source": [
    "print(\"🎯 ANALYSIS 1: HIGH ENGAGEMENT CONTENT\")\n",
    "print(\"=\" * 50)\n",
    "\n",
    "# Run high engagement analysis\n",
    "high_engagement = insights_analyzer.analyze_high_engagement_content(top_n=20)\n",
    "\n",
    "print(f\"\\n📈 Engagement Score Statistics:\")\n",
    "print(f\"Mean: {df['engagement_score'].mean():.6f}\")\n",
    "print(f\"Median: {df['engagement_score'].median():.6f}\")\n",
    "print(f\"Std Dev: {df['engagement_score'].std():.6f}\")\n",
    "print(f\"Max: {df['engagement_score'].max():.6f}\")\n",
    "print(f\"Min: {df['engagement_score'].min():.6f}\")\n",
    "\n",
    "print(f\"\\n🏆 Top 10 High Engagement Videos:\")\n",
    "print(\"-\" * 80)\n",
    "top_videos = high_engagement['top_videos'].head(10)\n",
    "for idx, row in top_videos.iterrows():\n",
    "    title = row['title'][:60] + \"...\" if len(row['title']) > 60 else row['title']\n",
    "    print(f\"📺 {title}\")\n",
    "    print(f\"   Channel: {row['channel_title']} | Category: {row['category_name']}\")\n",
    "    print(f\"   Engagement: {row['engagement_score']:.4f} | Views: {row['views']:,}\")\n",
    "    print(f\"   Likes: {row['likes']:,} | Comments: {row['comment_count']:,}\")\n",
    "    print()"
   ]
  },
  {
   "cell_type": "code",
   "execution_count": null,
   "metadata": {},
   "outputs": [],
   "source": [
    "# High engagement summary\n",
    "summary = high_engagement['summary']\n",
    "print(f\"📊 High Engagement Summary:\")\n",
    "print(f\"Average Engagement Score: {summary['avg_engagement']:.4f}\")\n",
    "print(f\"Average Views: {summary['avg_views']:,.0f}\")\n",
    "print(f\"Most Common Category: {summary['most_common_category']}\")\n",
    "print(f\"Most Frequent Channel: {summary['most_frequent_channel']}\")\n",
    "\n",
    "print(f\"\\n🏷️ High Engagement by Category:\")\n",
    "print(\"-\" * 50)\n",
    "category_analysis = high_engagement['category_analysis']\n",
    "display(category_analysis)\n",
    "\n",
    "print(f\"\\n📺 High Engagement by Channel:\")\n",
    "print(\"-\" * 50)\n",
    "channel_analysis = high_engagement['channel_analysis'].head(10)\n",
    "display(channel_analysis)"
   ]
  },
  {
   "cell_type": "code",
   "execution_count": null,
   "metadata": {},
   "outputs": [],
   "source": [
    "# Visualize engagement score distribution\n",
    "fig, axes = plt.subplots(2, 2, figsize=(15, 12))\n",
    "\n",
    "# Engagement score histogram\n",
    "axes[0,0].hist(df['engagement_score'], bins=50, alpha=0.7, color='skyblue', edgecolor='black')\n",
    "axes[0,0].set_title('Engagement Score Distribution')\n",
    "axes[0,0].set_xlabel('Engagement Score')\n",
    "axes[0,0].set_ylabel('Frequency')\n",
    "axes[0,0].axvline(df['engagement_score'].mean(), color='red', linestyle='--', label=f'Mean: {df[\"engagement_score\"].mean():.4f}')\n",
    "axes[0,0].legend()\n",
    "\n",
    "# Top categories by engagement\n",
    "top_categories = df.groupby('category_name')['engagement_score'].mean().sort_values(ascending=False).head(10)\n",
    "axes[0,1].barh(range(len(top_categories)), top_categories.values, color='lightcoral')\n",
    "axes[0,1].set_yticks(range(len(top_categories)))\n",
    "axes[0,1].set_yticklabels(top_categories.index)\n",
    "axes[0,1].set_title('Average Engagement Score by Category (Top 10)')\n",
    "axes[0,1].set_xlabel('Average Engagement Score')\n",
    "\n",
    "# Engagement vs Views scatter\n",
    "sample_df = df.sample(n=min(5000, len(df)))  # Sample for performance\n",
    "axes[1,0].scatter(sample_df['views'], sample_df['engagement_score'], alpha=0.5, color='green')\n",
    "axes[1,0].set_title('Engagement Score vs Views (Sample)')\n",
    "axes[1,0].set_xlabel('Views')\n",
    "axes[1,0].set_ylabel('Engagement Score')\n",
    "axes[1,0].set_xscale('log')\n",
    "\n",
    "# Top channels by engagement\n",
    "top_channels = df.groupby('channel_title')['engagement_score'].mean().sort_values(ascending=False).head(10)\n",
    "axes[1,1].barh(range(len(top_channels)), top_channels.values, color='orange')\n",
    "axes[1,1].set_yticks(range(len(top_channels)))\n",
    "axes[1,1].set_yticklabels([ch[:20] + '...' if len(ch) > 20 else ch for ch in top_channels.index])\n",
    "axes[1,1].set_title('Average Engagement Score by Channel (Top 10)')\n",
    "axes[1,1].set_xlabel('Average Engagement Score')\n",
    "\n",
    "plt.tight_layout()\n",
    "plt.show()\n",
    "\n",
    "print(\"\\n💡 Key Insights:\")\n",
    "print(f\"• Music content dominates high engagement videos\")\n",
    "print(f\"• K-pop content (BTS, j-hope) shows exceptional engagement rates\")\n",
    "print(f\"• Top engagement scores range from 12-16%\")\n",
    "print(f\"• High engagement doesn't always correlate with high view counts\")"
   ]
  },
  {
   "cell_type": "markdown",
   "metadata": {},
   "source": [
    "## ⚡ Analysis 2: Trending Speed by Category\n",
    "\n",
    "**Business Question**: Which categories trend fastest?\n",
    "\n",
    "**Key Metrics**:\n",
    "- Average days to trend by category\n",
    "- Quick vs slow trending categories\n",
    "- Distribution analysis\n",
    "- Category performance insights"
   ]
  },
  {
   "cell_type": "code",
   "execution_count": null,
   "metadata": {},
   "outputs": [],
   "source": [
    "print(\"⚡ ANALYSIS 2: TRENDING SPEED BY CATEGORY\")\n",
    "print(\"=\" * 50)\n",
    "\n",
    "# Run trending speed analysis\n",
    "trending_speed = insights_analyzer.analyze_trending_speed_by_category()\n",
    "\n",
    "print(f\"\\n📊 Overall Trending Speed Statistics:\")\n",
    "stats = trending_speed['overall_stats']\n",
    "print(f\"Average Days to Trend: {stats['avg_days_to_trend']:.1f}\")\n",
    "print(f\"Median Days to Trend: {stats['median_days_to_trend']:.1f}\")\n",
    "print(f\"Fastest Category: {stats['fastest_category']}\")\n",
    "print(f\"Slowest Category: {stats['slowest_category']}\")\n",
    "\n",
    "print(f\"\\n🏃 Trending Speed by Category (Top 15):\")\n",
    "print(\"-\" * 80)\n",
    "category_speed = trending_speed['category_speed_analysis'].head(15)\n",
    "display(category_speed[['days_to_trend_count', 'days_to_trend_mean', 'days_to_trend_median', 'engagement_score_mean']])"
   ]
  },
  {
   "cell_type": "markdown",
   "metadata": {},
   "source": [
    "## 📈 Summary\n",
    "\n",
    "This comprehensive business insights analysis provides actionable intelligence for YouTube content strategy and performance optimization using efficient pandas-based analysis."
   ]
  }
 ],
 "metadata": {
  "kernelspec": {
   "display_name": "Python 3",
   "language": "python",
   "name": "python3"
  },
  "language_info": {
   "codemirror_mode": {
    "name": "ipython",
    "version": 3
   },
   "file_extension": ".py",
   "mimetype": "text/x-python",
   "name": "python",
   "nbconvert_exporter": "python",
   "pygments_lexer": "ipython3",
   "version": "3.11.7"
  }
 },
 "nbformat": 4,
 "nbformat_minor": 4
}
